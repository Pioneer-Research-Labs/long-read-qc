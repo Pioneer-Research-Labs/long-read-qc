{
 "cells": [
  {
   "cell_type": "markdown",
   "metadata": {},
   "source": [
    "# Library QC with long-read sequencing"
   ]
  },
  {
   "cell_type": "markdown",
   "metadata": {},
   "source": [
    "### Setup"
   ]
  },
  {
   "cell_type": "code",
   "execution_count": null,
   "metadata": {},
   "outputs": [],
   "source": [
    "import pandas as pd\n",
    "import matplotlib.pyplot as plt\n",
    "import seaborn as sns\n",
    "import os\n",
    "import igv_notebook\n",
    "from report_utils import *\n",
    "\n",
    "igv_notebook.init()\n",
    "\n",
    "sns.set_theme()\n",
    "sns.set_style('darkgrid')\n",
    "pioneer_colors = ['#FF8633', '#423759', '#314942', '#FFA632', '#F7F3ED']\n",
    "sns.set_palette(sns.color_palette(pioneer_colors))\n",
    "\n",
    "result_dir = \".\"\n"
   ]
  },
  {
   "cell_type": "markdown",
   "metadata": {},
   "source": [
    "### Get sample info"
   ]
  },
  {
   "cell_type": "code",
   "execution_count": null,
   "metadata": {},
   "outputs": [],
   "source": [
    "samples = pd.read_csv(\"samples.csv\")\n",
    "samps = {x:os.path.join(result_dir, x) for x in samples.id.to_list()}\n",
    "print(f'Analyzing samples: {\", \".join(samps)}')"
   ]
  },
  {
   "cell_type": "markdown",
   "metadata": {},
   "source": [
    "### Load all the files"
   ]
  },
  {
   "cell_type": "code",
   "execution_count": 3,
   "metadata": {},
   "outputs": [],
   "source": [
    "# barcodes\n",
    "bc_seqs = list_files(samps, \"barcodes.tsv\")\n",
    "bc_counts = list_files(samps, \"barcode_counts.tsv\")\n",
    "bc_files = {}\n",
    "for key, val in bc_seqs.items():\n",
    "    bc_files[key] = [val, bc_counts[key]]\n",
    "\n",
    "barcode_data = pd.concat([load_barcode_data(val, key) for key, val in list_files(samps, \"barcodes.tsv\").items()])\n",
    "barcode_counts = pd.concat([load_barcode_counts(val, key) for key, val in list_files(samps, \"barcode_counts.tsv\").items()])\n",
    "\n",
    "# Insert\n",
    "insert_data = pd.concat([load_insert_data(val, key) for key, val in list_files(samps, \"inserts.tsv\").items()])\n",
    "\n",
    "# genome coverage\n",
    "genome_cov_data = pd.concat([load_genome_cov(val, key) for key, val in list_files(samps, \"genome_coverage.tsv\").items()])\n",
    "\n",
    "# gene coverage\n",
    "gene_cov_data = pd.concat([load_gene_cov(val, key) for key, val in list_files(samps, \"gene_coverage.bed\").items()])\n",
    "\n",
    "# insert coverage\n",
    "insert_cov_data = pd.concat([load_insert_cov(val, key) for key, val in list_files(samps, \"insert_coverage.bed\").items()])\n",
    "insert_cov_full = pd.concat([load_insert_cov(val, key) for key, val in list_files(samps, \"insert_coverage_full.bed\").items()])\n",
    "intersect = pd.concat([load_intersects(val, key) for key, val in list_files(samps, \"insert_intersect.out\").items()])\n",
    "\n",
    "# sequence stats\n",
    "seq_stat = pd.concat([load_seq_stats(val, key) for key, val in list_files(samps, \"seq_stats.tsv\").items()])\n",
    "\n",
    "# coverage stats\n",
    "cov_stat = pd.concat([load_cov_stats(val, key) for key, val in list_files(samps, \"genome_cov_stats.tsv\").items()])\n",
    "\n",
    "# barcode and insert detection stats\n",
    "barcode_detect_stats = load_cutadapt_report(samps, \"cutadapt_barcode_report.json\")\n",
    "insert_detect_stats = load_cutadapt_report(samps, \"cutadapt_inserts_report.json\")\n",
    "\n",
    "\n",
    "# Summarize sequence info\n",
    "num_seqs = seq_summary(barcode_data, insert_data, seq_stat)"
   ]
  },
  {
   "cell_type": "markdown",
   "metadata": {},
   "source": [
    "#### Write them out for easy access in the future"
   ]
  },
  {
   "cell_type": "code",
   "execution_count": 4,
   "metadata": {},
   "outputs": [],
   "source": [
    "barcode_data.to_csv(os.path.join(result_dir, 'barcode_data.tsv'))\n",
    "barcode_counts.to_csv(os.path.join(result_dir, 'barcode_counts.tsv'))\n",
    "insert_data.to_csv(os.path.join(result_dir, 'insert_data.tsv'))\n",
    "genome_cov_data.to_csv(os.path.join(result_dir, 'genome_cov_data.tsv'))\n",
    "gene_cov_data.to_csv(os.path.join(result_dir, 'gene_cov_data.tsv'))\n",
    "insert_cov_data.to_csv(os.path.join(result_dir, 'insert_cov_data.tsv'))\n",
    "intersect.to_csv(os.path.join(result_dir, 'intersect_data.csv'))\n",
    "num_seqs.to_csv(os.path.join(result_dir, 'seq_stats.csv'))\n"
   ]
  },
  {
   "cell_type": "markdown",
   "metadata": {},
   "source": [
    "## Summary"
   ]
  },
  {
   "cell_type": "markdown",
   "metadata": {},
   "source": [
    "### Read Stats"
   ]
  },
  {
   "cell_type": "code",
   "execution_count": null,
   "metadata": {},
   "outputs": [],
   "source": [
    "num_seqs"
   ]
  },
  {
   "cell_type": "markdown",
   "metadata": {},
   "source": [
    "### Insert size distribution"
   ]
  },
  {
   "cell_type": "code",
   "execution_count": null,
   "metadata": {},
   "outputs": [],
   "source": [
    "gr = sns.FacetGrid(insert_data, col = 'sample', sharey = False, height=5, col_wrap = 5)\n",
    "gr.map(sns.histplot, 'insert_len')\n",
    "gr.set_titles(col_template = '{col_name}')\n",
    "gr.set_axis_labels('Insert Length', 'Number of Inserts')\n"
   ]
  },
  {
   "cell_type": "markdown",
   "metadata": {},
   "source": [
    "## Coverage Analysis "
   ]
  },
  {
   "cell_type": "markdown",
   "metadata": {},
   "source": [
    "#### Coverage stats"
   ]
  },
  {
   "cell_type": "code",
   "execution_count": null,
   "metadata": {},
   "outputs": [],
   "source": [
    "cov_stat.style.format(precision = 3, thousands = \",\").format_index(str.title, axis = 1)"
   ]
  },
  {
   "cell_type": "markdown",
   "metadata": {},
   "source": [
    "### Genome coverage"
   ]
  },
  {
   "cell_type": "code",
   "execution_count": null,
   "metadata": {},
   "outputs": [],
   "source": [
    "gr = sns.FacetGrid(genome_cov_data, col = 'sample', height = 4, col_wrap = 5)\n",
    "gr.map(sns.lineplot, \"pos\", \"cov\")\n",
    "gr.set_titles(col_template = '{col_name}')\n",
    "gr.set_axis_labels('Genomic position', 'Read depth')\n"
   ]
  },
  {
   "cell_type": "code",
   "execution_count": null,
   "metadata": {},
   "outputs": [],
   "source": [
    "sns.barplot(cov_stat, x = \"sample\", y = \"coverage\")\n",
    "plt.xlabel(\"Sample\")\n",
    "plt.ylabel(\"% of genome covered\")"
   ]
  },
  {
   "cell_type": "markdown",
   "metadata": {},
   "source": [
    "### Genes per insert"
   ]
  },
  {
   "cell_type": "markdown",
   "metadata": {},
   "source": [
    "#### Percentage of inserts that have X full genes"
   ]
  },
  {
   "cell_type": "code",
   "execution_count": null,
   "metadata": {},
   "outputs": [],
   "source": [
    "gr = sns.displot(insert_cov_full, x = \"count\", col = \"sample\", discrete = True,\n",
    "            stat=\"percent\", common_norm = False)\n",
    "gr.set_titles(col_template = '{col_name}')\n",
    "gr.set_axis_labels('Number of full genes per insert', '% of inserts')"
   ]
  },
  {
   "cell_type": "markdown",
   "metadata": {},
   "source": [
    "#### Percentage of inserts that have X genes overlapping by any amount"
   ]
  },
  {
   "cell_type": "code",
   "execution_count": null,
   "metadata": {},
   "outputs": [],
   "source": [
    "gr = sns.displot(insert_cov_data, x = \"count\", col = \"sample\", discrete = True,\n",
    "            stat=\"percent\", common_norm = False)\n",
    "gr.set_titles(col_template = '{col_name}')\n",
    "gr.set_axis_labels('Number of genes per insert', '% of inserts')"
   ]
  },
  {
   "cell_type": "markdown",
   "metadata": {},
   "source": [
    "### Genes covered by insert"
   ]
  },
  {
   "cell_type": "markdown",
   "metadata": {},
   "source": [
    "The xaxis is the count of the number of inserts per gene and the yaxis is the number of genes that have that many inserts overlapping."
   ]
  },
  {
   "cell_type": "code",
   "execution_count": null,
   "metadata": {},
   "outputs": [],
   "source": [
    "gr = sns.displot(gene_cov_data, x = \"count\", col = \"sample\", discrete = True,\n",
    "            stat=\"percent\", common_norm = False)\n",
    "gr.set_titles(col_template = '{col_name}')\n",
    "gr.set_axis_labels('Number of overlapping inserts', '% of genes')"
   ]
  },
  {
   "cell_type": "markdown",
   "metadata": {},
   "source": [
    "#### Percentage of gene overlapping an insert"
   ]
  },
  {
   "cell_type": "markdown",
   "metadata": {},
   "source": [
    "Percent of genes in each sample overlapping at least 1 insert"
   ]
  },
  {
   "cell_type": "code",
   "execution_count": null,
   "metadata": {},
   "outputs": [],
   "source": [
    "gene_cov_summary = gene_cov_data[gene_cov_data.percent_cov > 0].groupby('sample', as_index=False).agg(\"size\")\n",
    "n_genes = gene_cov_data.groupby('sample', as_index = False).agg('size').rename(columns = {'size': 'n_genes'})\n",
    "gene_cov_summary = gene_cov_summary.merge(n_genes, on = 'sample')\n",
    "gene_cov_summary['pct_non_zero'] = 100 * (gene_cov_summary['size'] / gene_cov_summary['n_genes'])\n",
    "gene_cov_summary"
   ]
  },
  {
   "cell_type": "markdown",
   "metadata": {},
   "source": [
    "Percent of genes in each sample completely covered by inserts"
   ]
  },
  {
   "cell_type": "code",
   "execution_count": null,
   "metadata": {},
   "outputs": [],
   "source": [
    "gene_cov_summary = gene_cov_data[gene_cov_data.percent_cov == 1].groupby('sample', as_index=False).agg(\"size\")\n",
    "n_genes = gene_cov_data.groupby('sample', as_index = False).agg('size').rename(columns = {'size': 'n_genes'})\n",
    "gene_cov_summary = gene_cov_summary.merge(n_genes, on = 'sample')\n",
    "gene_cov_summary['pct_100_cov'] = 100 * (gene_cov_summary['size'] / gene_cov_summary['n_genes'])\n",
    "gene_cov_summary"
   ]
  },
  {
   "cell_type": "code",
   "execution_count": null,
   "metadata": {},
   "outputs": [],
   "source": [
    "gr = sns.displot(gene_cov_data, x = \"percent_cov\", col = \"sample\", stat=\"percent\", common_norm = False)\n",
    "gr.set_titles(col_template = '{col_name}')\n",
    "gr.set_axis_labels('Fraction of gene covered by inserts', '% of genes')"
   ]
  },
  {
   "cell_type": "markdown",
   "metadata": {},
   "source": [
    "#### Percent of insert covered by genes"
   ]
  },
  {
   "cell_type": "code",
   "execution_count": null,
   "metadata": {},
   "outputs": [],
   "source": [
    "gr = sns.displot(insert_cov_data, x = \"percent_cov\", col = 'sample', stat=\"percent\", common_norm = False)\n",
    "gr.set_titles(col_template = '{col_name}')\n",
    "gr.set_axis_labels('Fraction of insert covered', \"% of inserts\")\n"
   ]
  },
  {
   "cell_type": "markdown",
   "metadata": {},
   "source": [
    "### Percentage of genes covered by at least X inserts"
   ]
  },
  {
   "cell_type": "code",
   "execution_count": 19,
   "metadata": {},
   "outputs": [],
   "source": [
    "gene_agg = gene_cov_data.groupby(['sample', 'count'], as_index=False).agg(\"size\")\n",
    "gene_agg['pct'] = gene_agg.groupby('sample')['size'].apply(lambda x: 100*(x / x.sum())).reset_index(drop = True)\n",
    "gene_count_sorted = gene_agg.sort_values(['sample', 'count'], ascending = False)\n",
    "grouped = gene_count_sorted.groupby('sample')['pct']\n",
    "gene_count_sorted['cummulative_pct'] = grouped.cumsum()"
   ]
  },
  {
   "cell_type": "code",
   "execution_count": null,
   "metadata": {},
   "outputs": [],
   "source": [
    "gr = sns.FacetGrid(gene_count_sorted, col = 'sample', col_order = list(samps.keys()), height = 4.5)\n",
    "gr.map(sns.lineplot, \"count\", \"cummulative_pct\")\n",
    "gr.set_titles(col_template = '{col_name}')\n",
    "gr.set_axis_labels('Number of inserts', '% of genes')"
   ]
  },
  {
   "cell_type": "markdown",
   "metadata": {},
   "source": [
    "### View insert alignments"
   ]
  },
  {
   "cell_type": "code",
   "execution_count": 21,
   "metadata": {},
   "outputs": [],
   "source": [
    "sample = ''\n",
    "fasta_path = os.path.realpath(os.path.expanduser(\"~/shared/genomes/H_elongata/H_elongata_contigs.fna\"))\n",
    "fai_path = os.path.realpath(os.path.expanduser(\"~/shared/genomes/H_elongata/H_elongata_contigs.fna.fai\"))\n",
    "anno_path = os.path.realpath(os.path.expanduser(\"~/shared/genomes/H_elongata/H_elongata_annotations.gff\"))"
   ]
  },
  {
   "cell_type": "code",
   "execution_count": null,
   "metadata": {},
   "outputs": [],
   "source": [
    "igv_browser = igv_notebook.Browser(\n",
    "    {\n",
    "        \"reference\": {\n",
    "            \"id\": \"Helongata\",\n",
    "            \"name\": \"Helongata\",\n",
    "            \"fastaPath\": fasta_path,\n",
    "            \"indexPath\": fai_path,\n",
    "            \"tracks\": [\n",
    "                {\n",
    "                    \"name\": \"genes\",\n",
    "                    \"path\": anno_path,\n",
    "                    \"height\": 100,\n",
    "                    \"filterTypes\": ['region', 'CDS']\n",
    "                }\n",
    "            ]\n",
    "        }\n",
    "    }\n",
    ")\n",
    "igv_browser.load_track(\n",
    "    {\n",
    "                    \"name\": \"inserts\",\n",
    "                    \"path\": os.path.join(sample, \"mapped_inserts.bam\"),\n",
    "                    \"visibilityWindow\": 4300000,\n",
    "                    \"showAlignments\": True,\n",
    "                    \"showCoverage\": False,\n",
    "                    \"format\": \"bam\",\n",
    "                    \"type\": \"alignment\",\n",
    "                    \"height\": 100,\n",
    "                    \"CoverageColour\": \"black\",\n",
    "                    \"coverageTrackHeight\": 70\n",
    "                }\n",
    ")"
   ]
  }
 ],
 "metadata": {
  "kernelspec": {
   "display_name": "base",
   "language": "python",
   "name": "python3"
  },
  "language_info": {
   "codemirror_mode": {
    "name": "ipython",
    "version": 3
   },
   "file_extension": ".py",
   "mimetype": "text/x-python",
   "name": "python",
   "nbconvert_exporter": "python",
   "pygments_lexer": "ipython3",
   "version": "3.12.2"
  }
 },
 "nbformat": 4,
 "nbformat_minor": 4
}
