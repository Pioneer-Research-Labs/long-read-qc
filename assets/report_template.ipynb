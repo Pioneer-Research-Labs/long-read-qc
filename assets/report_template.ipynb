{
 "cells": [
  {
   "cell_type": "markdown",
   "metadata": {},
   "source": [
    "# Library QC with long-read sequencing"
   ]
  },
  {
   "cell_type": "markdown",
   "metadata": {},
   "source": [
    "### Setup"
   ]
  },
  {
   "cell_type": "code",
   "execution_count": null,
   "metadata": {},
   "outputs": [],
   "source": [
    "import pandas as pd\n",
    "import matplotlib.pyplot as plt\n",
    "import seaborn as sns\n",
    "import plotly.io as pio\n",
    "import plotly.express as px\n",
    "import plotly.graph_objects as go\n",
    "from ipywidgets import interact\n",
    "import ipywidgets as widgets\n",
    "import os\n",
    "import igv_notebook\n",
    "from report_utils import *\n",
    "\n",
    "igv_notebook.init()\n",
    "\n",
    "sns.set_theme()\n",
    "sns.set_style('darkgrid')\n",
    "pioneer_colors = ['#FF8633', '#423759', '#314942', '#FFA632', '#F7F3ED']\n",
    "sns.set_palette(sns.color_palette(pioneer_colors))\n",
    "\n",
    "pio.templates['pioneer'] = pio.templates[\"seaborn\"]\n",
    "pio.templates['pioneer'].layout.colorway = pioneer_colors\n",
    "pio.templates.default = 'pioneer'\n",
    "\n",
    "result_dir = \".\"\n"
   ]
  },
  {
   "cell_type": "markdown",
   "metadata": {},
   "source": [
    "### Get sample info and load result files"
   ]
  },
  {
   "cell_type": "code",
   "execution_count": null,
   "metadata": {},
   "outputs": [],
   "source": [
    "# sample data\n",
    "samples = pd.read_csv(\"samples.csv\")\n",
    "samps = {x:os.path.join(result_dir, x) for x in samples.id.to_list()}\n",
    "\n",
    "# load results\n",
    "data = load_report_data(samps)\n",
    "\n",
    "# sequence summary\n",
    "num_seqs = seq_summary(data.barcodes, data.inserts, data.seq_stat, data.vec_map_stats)\n",
    "\n",
    "print(f'Analyzing samples: {\", \".join(samps)}')"
   ]
  },
  {
   "cell_type": "markdown",
   "metadata": {},
   "source": [
    "## Summary"
   ]
  },
  {
   "cell_type": "markdown",
   "metadata": {},
   "source": [
    "### Read Stats"
   ]
  },
  {
   "cell_type": "code",
   "execution_count": null,
   "metadata": {},
   "outputs": [],
   "source": [
    "num_seqs"
   ]
  },
  {
   "cell_type": "markdown",
   "metadata": {},
   "source": [
    "### Insert size distribution"
   ]
  },
  {
   "cell_type": "code",
   "execution_count": null,
   "metadata": {},
   "outputs": [],
   "source": [
    "@interact(wrap = widgets.IntSlider(min=-1, max=10, step=1, value=3))\n",
    "def insert_sizes(wrap):\n",
    "    fig = px.histogram(data.inserts, x = 'insert_len', facet_col='sample', facet_col_wrap=wrap, height = 600,\n",
    "                       labels = {'insert_len': 'Insert Length'}, facet_col_spacing = 0.04, facet_row_spacing = 0.09)\n",
    "    fig.for_each_annotation(lambda a: a.update(text=a.text.split(\"=\")[-1]))\n",
    "    fig.update_traces(marker=dict(line=dict(color='white', width=1)))\n",
    "    fig.update_yaxes(matches = None)\n",
    "    fig.for_each_yaxis(lambda yaxis: yaxis.update(showticklabels=True))\n",
    "    fig.for_each_xaxis(lambda xaxis: xaxis.update(showticklabels=True, nticks = 20))\n",
    "\n",
    "    return(go.FigureWidget(fig))"
   ]
  },
  {
   "cell_type": "markdown",
   "metadata": {},
   "source": [
    "## Coverage Analysis "
   ]
  },
  {
   "cell_type": "markdown",
   "metadata": {},
   "source": [
    "#### Coverage stats"
   ]
  },
  {
   "cell_type": "code",
   "execution_count": null,
   "metadata": {},
   "outputs": [],
   "source": [
    "data.cov_stat.style.format(precision = 3, thousands = \",\").format_index(str.title, axis = 1)"
   ]
  },
  {
   "cell_type": "markdown",
   "metadata": {},
   "source": [
    "### Genome coverage"
   ]
  },
  {
   "cell_type": "code",
   "execution_count": null,
   "metadata": {},
   "outputs": [],
   "source": [
    "cov_lists = list(data.genome_cov.groupby('sample'))\n",
    "for cov in cov_lists:\n",
    "    gr = sns.FacetGrid(cov[1], col = 'chr', height = 4, sharex=False)\n",
    "    gr.map(sns.lineplot, \"pos\", \"cov\")\n",
    "    gr.set_titles(col_template = '{col_name}')\n",
    "    gr.set_axis_labels('Genomic position', 'Read depth')\n",
    "    gr.fig.subplots_adjust(top=.8)\n",
    "    gr.fig.suptitle(cov[0])\n",
    "    print(gr)"
   ]
  },
  {
   "cell_type": "code",
   "execution_count": null,
   "metadata": {},
   "outputs": [],
   "source": [
    "cov_avg = data.cov_stat.groupby('sample', as_index = False)['coverage'].mean()\n",
    "@interact(width = (0, 1000))\n",
    "def cov_stat(width):\n",
    "    fig = px.bar(cov_avg, x = \"sample\", y = \"coverage\", width=width, height=400, barmode = 'group',\n",
    "       labels = {'sample': 'Sample', 'coverage': '% of genome covered'})\n",
    "    return(go.FigureWidget(fig))"
   ]
  },
  {
   "cell_type": "markdown",
   "metadata": {},
   "source": [
    "### Metagenome Coverage"
   ]
  },
  {
   "cell_type": "code",
   "execution_count": null,
   "metadata": {},
   "outputs": [],
   "source": [
    "data.matches['p_match'] = round(data.matches['f_match'] * 100, 2)"
   ]
  },
  {
   "cell_type": "code",
   "execution_count": null,
   "metadata": {},
   "outputs": [],
   "source": [
    "meta_samps = ['all']\n",
    "meta_samps.extend(data.matches['sample'].unique().tolist())\n",
    "@interact(sample = meta_samps, num_to_plot = (1, 50))\n",
    "def plot_matches(sample, num_to_plot):\n",
    "    if sample != 'all':\n",
    "        d = data.matches.query(f'sample == \"{sample}\"')\n",
    "    else:\n",
    "        d = data.matches\n",
    "    d = d.groupby('sample').apply(lambda x: x.nlargest(num_to_plot, 'p_match'), include_groups=False).reset_index()\n",
    "    fig = px.bar(d, x = 'p_match', y = 'match_name', height=600, facet_row='sample',\n",
    "                 labels = {'p_match': 'Percent of genome', 'match_name': 'Genome'})\n",
    "    fig.for_each_annotation(lambda a: a.update(text=a.text.split(\"=\")[-1]))\n",
    "   \n",
    "\n",
    "    return(go.FigureWidget(fig))"
   ]
  },
  {
   "cell_type": "markdown",
   "metadata": {},
   "source": [
    "### Metagenome taxonomy"
   ]
  },
  {
   "cell_type": "code",
   "execution_count": null,
   "metadata": {},
   "outputs": [],
   "source": [
    "rank_select = data.tax['rank'].unique().tolist()\n",
    "meta_samps = data.tax['sample'].unique().tolist()\n",
    "\n",
    "@interact(rank = rank_select, samp = meta_samps)\n",
    "def taxonomy_sunburst(rank, samp):\n",
    "    all_ranks = ['superkingdom', 'phylum', 'class', 'order', 'family', 'genus', 'species']\n",
    "    i = [all_ranks.index(r) + 1 for r in all_ranks if r  == rank]\n",
    "    ranks = all_ranks[0:i[0]]\n",
    "\n",
    "    x = data.tax.query(f'(rank == \"{rank}\" ) & (sample == \"{samp}\")')[['fraction', 'lineage']]\n",
    "    x[ranks] = x.lineage.str.split(';', expand = True)\n",
    "    x = x.drop(['lineage'], axis = 1)\n",
    "    x[ranks] = x[ranks].apply(lambda x: x.str.replace(\"(^[a-z]__)\", \"\", regex = True))  \n",
    "\n",
    "    x['Percentage'] = round(x['fraction'] * 100, 2)\n",
    "\n",
    "    plt = px.sunburst(x, path = ranks, values = 'Percentage', height=700)\n",
    "\n",
    "    fw = go.FigureWidget(plt)\n",
    "\n",
    "    return(fw)"
   ]
  },
  {
   "cell_type": "markdown",
   "metadata": {},
   "source": [
    "### Genes per insert"
   ]
  },
  {
   "cell_type": "markdown",
   "metadata": {},
   "source": [
    "#### Percentage of inserts that have X full genes"
   ]
  },
  {
   "cell_type": "code",
   "execution_count": null,
   "metadata": {},
   "outputs": [],
   "source": [
    "gr = sns.displot(data.insert_cov_full, x = \"count\", col = \"sample\", discrete = True,\n",
    "            stat=\"percent\", common_norm = False)\n",
    "gr.set_titles(col_template = '{col_name}')\n",
    "gr.set_axis_labels('Number of full genes per insert', '% of inserts')"
   ]
  },
  {
   "cell_type": "markdown",
   "metadata": {},
   "source": [
    "#### Percentage of inserts that have X genes overlapping by any amount"
   ]
  },
  {
   "cell_type": "code",
   "execution_count": null,
   "metadata": {},
   "outputs": [],
   "source": [
    "gr = sns.displot(data.insert_cov, x = \"count\", col = \"sample\", discrete = True,\n",
    "            stat=\"percent\", common_norm = False)\n",
    "gr.set_titles(col_template = '{col_name}')\n",
    "gr.set_axis_labels('Number of genes per insert', '% of inserts')"
   ]
  },
  {
   "cell_type": "markdown",
   "metadata": {},
   "source": [
    "### Genes covered by insert"
   ]
  },
  {
   "cell_type": "markdown",
   "metadata": {},
   "source": [
    "The xaxis is the count of the number of inserts per gene and the yaxis is the number of genes that have that many inserts overlapping."
   ]
  },
  {
   "cell_type": "code",
   "execution_count": null,
   "metadata": {},
   "outputs": [],
   "source": [
    "gr = sns.displot(data.gene_cov, x = \"count\", col = \"sample\", discrete = True,\n",
    "            stat=\"percent\", common_norm = False)\n",
    "gr.set_titles(col_template = '{col_name}')\n",
    "gr.set_axis_labels('Number of overlapping inserts', '% of genes')"
   ]
  },
  {
   "cell_type": "markdown",
   "metadata": {},
   "source": [
    "#### Percentage of gene overlapping an insert"
   ]
  },
  {
   "cell_type": "markdown",
   "metadata": {},
   "source": [
    "Percent of genes in each sample overlapping at least 1 insert"
   ]
  },
  {
   "cell_type": "code",
   "execution_count": null,
   "metadata": {},
   "outputs": [],
   "source": [
    "gene_cov_summary = data.gene_cov[data.gene_cov.percent_cov > 0].groupby('sample', as_index=False).agg(\"size\")\n",
    "n_genes = data.gene_cov.groupby('sample', as_index = False).agg('size').rename(columns = {'size': 'n_genes'})\n",
    "gene_cov_summary = gene_cov_summary.merge(n_genes, on = 'sample')\n",
    "gene_cov_summary['pct_non_zero'] = 100 * (gene_cov_summary['size'] / gene_cov_summary['n_genes'])\n",
    "gene_cov_summary"
   ]
  },
  {
   "cell_type": "markdown",
   "metadata": {},
   "source": [
    "Percent of genes in each sample completely covered by inserts"
   ]
  },
  {
   "cell_type": "code",
   "execution_count": null,
   "metadata": {},
   "outputs": [],
   "source": [
    "gene_cov_summary = data.gene_cov[data.gene_cov.percent_cov == 1].groupby('sample', as_index=False).agg(\"size\")\n",
    "n_genes = data.gene_cov.groupby('sample', as_index = False).agg('size').rename(columns = {'size': 'n_genes'})\n",
    "gene_cov_summary = gene_cov_summary.merge(n_genes, on = 'sample')\n",
    "gene_cov_summary['pct_100_cov'] = 100 * (gene_cov_summary['size'] / gene_cov_summary['n_genes'])\n",
    "gene_cov_summary"
   ]
  },
  {
   "cell_type": "code",
   "execution_count": null,
   "metadata": {},
   "outputs": [],
   "source": [
    "gr = sns.displot(data.gene_cov, x = \"percent_cov\", col = \"sample\", stat=\"percent\", common_norm = False)\n",
    "gr.set_titles(col_template = '{col_name}')\n",
    "gr.set_axis_labels('Fraction of gene covered by inserts', '% of genes')"
   ]
  },
  {
   "cell_type": "markdown",
   "metadata": {},
   "source": [
    "#### Percent of insert covered by genes"
   ]
  },
  {
   "cell_type": "code",
   "execution_count": null,
   "metadata": {},
   "outputs": [],
   "source": [
    "gr = sns.displot(data.insert_cov, x = \"percent_cov\", col = 'sample', stat=\"percent\", common_norm = False)\n",
    "gr.set_titles(col_template = '{col_name}')\n",
    "gr.set_axis_labels('Fraction of insert covered', \"% of inserts\")\n"
   ]
  },
  {
   "cell_type": "markdown",
   "metadata": {},
   "source": [
    "### Percentage of genes covered by at least X inserts"
   ]
  },
  {
   "cell_type": "code",
   "execution_count": null,
   "metadata": {},
   "outputs": [],
   "source": [
    "gene_agg = data.gene_cov.groupby(['sample', 'count'], as_index=False).agg(\"size\")\n",
    "gene_agg['pct'] = gene_agg.groupby('sample')['size'].apply(lambda x: 100*(x / x.sum())).reset_index(drop = True)\n",
    "gene_count_sorted = gene_agg.sort_values(['sample', 'count'], ascending = False)\n",
    "grouped = gene_count_sorted.groupby('sample')['pct']\n",
    "gene_count_sorted['cummulative_pct'] = grouped.cumsum()"
   ]
  },
  {
   "cell_type": "code",
   "execution_count": null,
   "metadata": {},
   "outputs": [],
   "source": [
    "gr = sns.FacetGrid(gene_count_sorted, col = 'sample', col_order = list(samps.keys()), height = 4.5)\n",
    "gr.map(sns.lineplot, \"count\", \"cummulative_pct\")\n",
    "gr.set_titles(col_template = '{col_name}')\n",
    "gr.set_axis_labels('Number of inserts', '% of genes')"
   ]
  },
  {
   "cell_type": "markdown",
   "metadata": {},
   "source": [
    "### View insert alignments"
   ]
  },
  {
   "cell_type": "code",
   "execution_count": null,
   "metadata": {},
   "outputs": [],
   "source": [
    "sample = ''\n",
    "fasta_path = os.path.realpath(os.path.expanduser(\"~/shared/genomes/H_elongata/H_elongata_contigs.fna\"))\n",
    "fai_path = os.path.realpath(os.path.expanduser(\"~/shared/genomes/H_elongata/H_elongata_contigs.fna.fai\"))\n",
    "anno_path = os.path.realpath(os.path.expanduser(\"~/shared/genomes/H_elongata/H_elongata_annotations.gff\"))"
   ]
  },
  {
   "cell_type": "code",
   "execution_count": null,
   "metadata": {},
   "outputs": [],
   "source": []
  },
  {
   "cell_type": "code",
   "execution_count": null,
   "metadata": {},
   "outputs": [],
   "source": [
    "igv_browser = igv_notebook.Browser(\n",
    "    {\n",
    "        \"reference\": {\n",
    "            \"id\": \"Helongata\",\n",
    "            \"name\": \"Helongata\",\n",
    "            \"fastaPath\": fasta_path,\n",
    "            \"indexPath\": fai_path,\n",
    "            \"tracks\": [\n",
    "                {\n",
    "                    \"name\": \"genes\",\n",
    "                    \"path\": anno_path,\n",
    "                    \"height\": 100,\n",
    "                    \"filterTypes\": ['region', 'CDS']\n",
    "                }\n",
    "            ]\n",
    "        }\n",
    "    }\n",
    ")\n",
    "igv_browser.load_track(\n",
    "    {\n",
    "                    \"name\": \"inserts\",\n",
    "                    \"path\": os.path.join(sample, \"mapped_inserts.bam\"),\n",
    "                    \"visibilityWindow\": 4300000,\n",
    "                    \"showAlignments\": True,\n",
    "                    \"showCoverage\": False,\n",
    "                    \"format\": \"bam\",\n",
    "                    \"type\": \"alignment\",\n",
    "                    \"height\": 100,\n",
    "                    \"CoverageColour\": \"black\",\n",
    "                    \"coverageTrackHeight\": 70\n",
    "                }\n",
    ")"
   ]
  }
 ],
 "metadata": {
  "kernelspec": {
   "display_name": "base",
   "language": "python",
   "name": "python3"
  },
  "language_info": {
   "codemirror_mode": {
    "name": "ipython",
    "version": 3
   },
   "file_extension": ".py",
   "mimetype": "text/x-python",
   "name": "python",
   "nbconvert_exporter": "python",
   "pygments_lexer": "ipython3",
   "version": "3.12.2"
  }
 },
 "nbformat": 4,
 "nbformat_minor": 4
}
