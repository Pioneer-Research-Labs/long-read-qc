{
 "cells": [
  {
   "cell_type": "markdown",
   "metadata": {},
   "source": [
    "# Library QC with long-read sequencing"
   ]
  },
  {
   "cell_type": "markdown",
   "metadata": {},
   "source": [
    "### Setup"
   ]
  },
  {
   "cell_type": "code",
   "execution_count": null,
   "metadata": {},
   "outputs": [],
   "source": [
    "import pandas as pd\n",
    "import matplotlib.pyplot as plt\n",
    "import seaborn as sns\n",
    "import os\n",
    "import igv_notebook\n",
    "igv_notebook.init()\n",
    "\n",
    "sns.set_theme()\n",
    "sns.set_style('darkgrid')\n",
    "pioneer_colors = ['#FF8633', '#423759', '#314942', '#FFA632', '#F7F3ED']\n",
    "sns.set_palette(sns.color_palette(pioneer_colors))\n",
    "\n",
    "result_dir = \".\"\n"
   ]
  },
  {
   "cell_type": "markdown",
   "metadata": {},
   "source": [
    "### Processing functions"
   ]
  },
  {
   "cell_type": "code",
   "execution_count": 2,
   "metadata": {},
   "outputs": [],
   "source": [
    "def fix_read_name(df):\n",
    "    df[['id', 'name']] = df.read.str.split(' ', expand = True)\n",
    "    return df\n",
    "\n",
    "def list_files(samps, basename):\n",
    "    files = {key:os.path.join(val, basename) for key,val in samps.items()}\n",
    "    return {key:val for key,val in files.items() if os.path.exists(val)}\n",
    "\n",
    "def load_barcode_data(paths, samp):\n",
    "    barcode_path, counts_path = paths\n",
    "    barcodes = pd.read_table(barcode_path, names = ['read', 'barcode_seq', 'barcode_len'], usecols = [0,1,3])\n",
    "    barcodes = fix_read_name(barcodes)[['name', 'barcode_seq', 'barcode_len']]\n",
    "    barcode_counts = pd.read_table(counts_path, names = ['barcode_seq', 'barcode_count'])\n",
    "    barcodes = barcodes.merge(barcode_counts, on = 'barcode_seq')\n",
    "    barcodes['sample'] = samp\n",
    "    return barcodes\n",
    "\n",
    "def load_insert_data(path, samp):\n",
    "    inserts = pd.read_table(path, names = ['read', 'insert_seq', 'insert_len'],  usecols = [0,1,3])\n",
    "    inserts = fix_read_name(inserts)[['name', 'insert_seq', 'insert_len']]\n",
    "    inserts['sample'] = samp\n",
    "    return inserts\n",
    "\n",
    "def load_genome_cov(path, samp):\n",
    "    genome_cov = pd.read_table(path, names = ['chr', 'pos', 'cov'])\n",
    "    genome_cov['sample'] = samp\n",
    "    return genome_cov\n",
    "\n",
    "def load_gene_cov(path, samp):\n",
    "    gene_cov_full = pd.read_table(path, header = None)\n",
    "    gene_cov = gene_cov_full.loc[:, [9, 10, 11, 12]].rename(\n",
    "        columns={9:'count', 10:'bases', 11:'gene_length', 12:'percent_cov'})\n",
    "    gene_cov['sample'] = samp\n",
    "    return gene_cov\n",
    "\n",
    "def load_insert_cov(path, samp):\n",
    "    read_cov_full = pd.read_table(path, header = None)\n",
    "    read_cov = read_cov_full.loc[:, [3, 6, 7, 8, 9]].rename(\n",
    "        columns={3: 'read', 6:'count', 7:'bases', 8:'read_length', 9:'percent_cov'})\n",
    "    read_cov['sample'] = samp\n",
    "    return read_cov\n",
    "    \n",
    "def load_seq_stats(path, samp):\n",
    "    df = pd.read_table(path)\n",
    "    df['sample'] = samp\n",
    "    return(df)"
   ]
  },
  {
   "cell_type": "markdown",
   "metadata": {},
   "source": [
    "### Get sample info"
   ]
  },
  {
   "cell_type": "code",
   "execution_count": null,
   "metadata": {},
   "outputs": [],
   "source": [
    "samps = [x for x in os.listdir(result_dir) if os.path.isdir(os.path.join(result_dir, x))]\n",
    "samps = {x:os.path.join(result_dir, x) for x in samps}\n",
    "print(f'Analyzing samples: {\", \".join(samps)}')"
   ]
  },
  {
   "cell_type": "markdown",
   "metadata": {},
   "source": [
    "### Load all the files"
   ]
  },
  {
   "cell_type": "code",
   "execution_count": 4,
   "metadata": {},
   "outputs": [],
   "source": [
    "# barcodes\n",
    "bc_seqs = list_files(samps, \"barcode_seqs.tsv\")\n",
    "bc_counts = list_files(samps, \"barcode_counts.tsv\")\n",
    "bc_files = {}\n",
    "for key, val in bc_seqs.items():\n",
    "    bc_files[key] = [val, bc_counts[key]]\n",
    "\n",
    "barcode_data = pd.concat([load_barcode_data(val, key) for key, val in bc_files.items()])\n",
    "\n",
    "# Insert\n",
    "insert_data = pd.concat([load_insert_data(val, key) for key, val in list_files(samps, \"insert_seqs.tsv\").items()])\n",
    "\n",
    "# genome coverage\n",
    "genome_cov_data = pd.concat([load_genome_cov(val, key) for key, val in list_files(samps, \"genome_coverage.tsv\").items()])\n",
    "\n",
    "# gene coverage\n",
    "gene_cov_data = pd.concat([load_gene_cov(val, key) for key, val in list_files(samps, \"gene_coverage.bed\").items()])\n",
    "\n",
    "# insert coverage\n",
    "insert_cov_data = pd.concat([load_insert_cov(val, key) for key, val in list_files(samps, \"insert_coverage.bed\").items()])\n",
    "\n",
    "# sequence stats\n",
    "seq_stat = pd.concat([load_seq_stats(val, key) for key, val in list_files(samps, \"seq_stats.out\").items()])\n"
   ]
  },
  {
   "cell_type": "markdown",
   "metadata": {},
   "source": [
    "#### Write them out for easy access in the future"
   ]
  },
  {
   "cell_type": "code",
   "execution_count": 5,
   "metadata": {},
   "outputs": [],
   "source": [
    "barcode_data.to_csv(os.path.join(result_dir, 'barcode_data.tsv'))\n",
    "insert_data.to_csv(os.path.join(result_dir, 'insert_data.tsv'))\n",
    "genome_cov_data.to_csv(os.path.join(result_dir, 'genome_cov_data.tsv'))\n",
    "gene_cov_data.to_csv(os.path.join(result_dir, 'gene_cov_data.tsv'))\n",
    "insert_cov_data.to_csv(os.path.join(result_dir, 'insert_cov_data.tsv'))\n"
   ]
  },
  {
   "cell_type": "markdown",
   "metadata": {},
   "source": [
    "### Summary"
   ]
  },
  {
   "cell_type": "code",
   "execution_count": null,
   "metadata": {},
   "outputs": [],
   "source": [
    "seq_stat"
   ]
  },
  {
   "cell_type": "markdown",
   "metadata": {},
   "source": [
    "#### Insert size distribution"
   ]
  },
  {
   "cell_type": "code",
   "execution_count": null,
   "metadata": {},
   "outputs": [],
   "source": [
    "gr = sns.FacetGrid(insert_data, col = 'sample', sharey = True)\n",
    "gr.map(sns.histplot, 'insert_len')\n",
    "gr.set_titles(col_template = '{col_name}')\n",
    "gr.set_axis_labels('Insert Length', 'Number of Inserts')\n"
   ]
  },
  {
   "cell_type": "markdown",
   "metadata": {},
   "source": [
    "#### Geneome coverage"
   ]
  },
  {
   "cell_type": "code",
   "execution_count": null,
   "metadata": {},
   "outputs": [],
   "source": [
    "gr = sns.FacetGrid(genome_cov_data, col = 'sample')\n",
    "gr.map(sns.lineplot, \"pos\", \"cov\")\n",
    "gr.set_titles(col_template = '{col_name}')\n",
    "gr.set_axis_labels('Genomic position', 'Read depth')\n"
   ]
  },
  {
   "cell_type": "markdown",
   "metadata": {},
   "source": [
    "#### Genes covered by insert"
   ]
  },
  {
   "cell_type": "code",
   "execution_count": null,
   "metadata": {},
   "outputs": [],
   "source": [
    "gr = sns.FacetGrid(gene_cov_data, col = 'sample')\n",
    "gr.map(sns.histplot, \"count\", discrete = True)\n",
    "gr.set_titles(col_template = '{col_name}')\n",
    "gr.set_axis_labels('Coverage', 'Number of genes')"
   ]
  },
  {
   "cell_type": "markdown",
   "metadata": {},
   "source": [
    "#### Percentage of gene overlapping an insert"
   ]
  },
  {
   "cell_type": "code",
   "execution_count": null,
   "metadata": {},
   "outputs": [],
   "source": [
    "gr = sns.FacetGrid(gene_cov_data, col = 'sample')\n",
    "gr.map(sns.histplot, \"percent_cov\",)\n",
    "gr.set_titles(col_template = '{col_name}')\n",
    "gr.set_axis_labels('% of gene overlapping', 'Number of genes')"
   ]
  },
  {
   "cell_type": "markdown",
   "metadata": {},
   "source": [
    "#### Percent of insert covered by genes"
   ]
  },
  {
   "cell_type": "code",
   "execution_count": null,
   "metadata": {},
   "outputs": [],
   "source": [
    "gr = sns.FacetGrid(insert_cov_data, col = 'sample', sharey = False)\n",
    "gr.map(sns.histplot, \"percent_cov\")\n",
    "gr.set_titles(col_template = '{col_name}')\n",
    "gr.set_axis_labels('Percent of insert covered')\n"
   ]
  },
  {
   "cell_type": "code",
   "execution_count": 131,
   "metadata": {},
   "outputs": [],
   "source": [
    "gene_agg = gene_cov_data.groupby(['sample', 'count'], as_index=False).agg(\"size\")\n",
    "gene_agg['pct'] = gene_agg.groupby('sample')['size'].apply(lambda x: x / x.sum()).reset_index(drop = True)"
   ]
  },
  {
   "cell_type": "code",
   "execution_count": null,
   "metadata": {},
   "outputs": [],
   "source": [
    "gr = sns.FacetGrid(gene_agg, col = 'sample')\n",
    "gr.map(sns.lineplot, \"count\", \"pct\")\n",
    "gr.set_titles(col_template = '{col_name}')\n",
    "gr.set_axis_labels('Num inserts', '% of genes')"
   ]
  },
  {
   "cell_type": "markdown",
   "metadata": {},
   "source": [
    "### Number of genes encoded per insert"
   ]
  },
  {
   "cell_type": "code",
   "execution_count": null,
   "metadata": {},
   "outputs": [],
   "source": [
    "gr = sns.FacetGrid(insert_cov_data, col = 'sample', sharey = False)\n",
    "gr.map(sns.histplot, \"count\", binwidth = 1, discrete = True)\n",
    "gr.set_titles(col_template = '{col_name}')\n",
    "gr.set_axis_labels('Genes per insert')"
   ]
  },
  {
   "cell_type": "markdown",
   "metadata": {},
   "source": [
    "### View insert alignments"
   ]
  },
  {
   "cell_type": "code",
   "execution_count": null,
   "metadata": {},
   "outputs": [],
   "source": [
    "sample = ''\n",
    "fasta_path = os.path.expanduser(\"~/pioneer/shared/genomes/H_elongata/H_elongata_contigs.fna\")\n",
    "fai_path = os.path.expanduser(\"~/pioneer/shared/genomes/H_elongata/H_elongata_contigs.fna.fai\")\n",
    "anno_path = os.path.expanduser(\"~/pioneer/shared/genomes/H_elongata/H_elongata_annotations.gff\")\n",
    "\n",
    "fasta_path = \"../../shared/genomes/H_elongata/H_elongata_contigs.fna\"\n",
    "fai_path = \"../../shared/genomes/H_elongata/H_elongata_contigs.fna.fai\" \n",
    "anno_path = \"../../shared/genomes/H_elongata/H_elongata_annotations.gff\"\n",
    "\n",
    "igv_browser = igv_notebook.Browser(\n",
    "    {\n",
    "        \"reference\": {\n",
    "            \"id\": \"Helongata\",\n",
    "            \"name\": \"Helongata\",\n",
    "            \"fastaPath\": fasta_path,\n",
    "            \"indexPath\": fai_path,\n",
    "            \"tracks\": [\n",
    "                {\n",
    "                    \"name\": \"genes\",\n",
    "                    \"path\": anno_path,\n",
    "                    \"height\": 100,\n",
    "                    \"filterTypes\": ['region', 'CDS']\n",
    "                }\n",
    "            ]\n",
    "        }\n",
    "    }\n",
    ")\n",
    "igv_browser.load_track(\n",
    "    {\n",
    "                    \"name\": \"inserts\",\n",
    "                    \"path\": os.path.join(sample, \"mapped_inserts.bam\"),\n",
    "                    \"visibilityWindow\": 4300000,\n",
    "                    \"showAlignments\": True,\n",
    "                    \"showCoverage\": False,\n",
    "                    \"format\": \"bam\",\n",
    "                    \"type\": \"alignment\",\n",
    "                    \"height\": 100,\n",
    "                    \"CoverageColour\": \"black\",\n",
    "                    \"coverageTrackHeight\": 70\n",
    "                }\n",
    ")"
   ]
  },
  {
   "cell_type": "code",
   "execution_count": null,
   "metadata": {},
   "outputs": [],
   "source": [
    "[os.path.exists(x) for x in [fasta_path, fai_path, anno_path]]"
   ]
  },
  {
   "cell_type": "code",
   "execution_count": null,
   "metadata": {},
   "outputs": [],
   "source": []
  }
 ],
 "metadata": {
  "kernelspec": {
   "display_name": "Python 3 (ipykernel)",
   "language": "python",
   "name": "python3"
  },
  "language_info": {
   "codemirror_mode": {
    "name": "ipython",
    "version": 3
   },
   "file_extension": ".py",
   "mimetype": "text/x-python",
   "name": "python",
   "nbconvert_exporter": "python",
   "pygments_lexer": "ipython3",
   "version": "3.12.2"
  }
 },
 "nbformat": 4,
 "nbformat_minor": 4
}
